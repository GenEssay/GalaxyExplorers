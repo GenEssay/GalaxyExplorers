{
 "cells": [
  {
   "cell_type": "code",
   "execution_count": 2,
   "id": "initial_id",
   "metadata": {
    "collapsed": true,
    "ExecuteTime": {
     "end_time": "2024-04-25T11:02:41.831234Z",
     "start_time": "2024-04-25T11:02:41.324617Z"
    }
   },
   "outputs": [],
   "source": [
    "from app.services.img_gen_service import fal"
   ]
  },
  {
   "cell_type": "code",
   "outputs": [],
   "source": [
    "resp = fal.generate(prompt=\"Found an old grimoire in the library\")"
   ],
   "metadata": {
    "collapsed": false,
    "ExecuteTime": {
     "end_time": "2024-04-25T11:02:43.543889Z",
     "start_time": "2024-04-25T11:02:41.832394Z"
    }
   },
   "id": "ee0cf12b964a947a",
   "execution_count": 3
  },
  {
   "cell_type": "code",
   "outputs": [
    {
     "name": "stdout",
     "output_type": "stream",
     "text": [
      "https://fal-cdn.batuhan-941.workers.dev/files/zebra/d1T0eGRnLf1ZgkdeDGSUi.jpeg\n"
     ]
    }
   ],
   "source": [
    "print(resp)"
   ],
   "metadata": {
    "collapsed": false,
    "ExecuteTime": {
     "end_time": "2024-04-25T11:02:43.558820Z",
     "start_time": "2024-04-25T11:02:43.545288Z"
    }
   },
   "id": "d5f604c476667cc3",
   "execution_count": 4
  },
  {
   "cell_type": "code",
   "outputs": [
    {
     "data": {
      "text/plain": "<IPython.core.display.HTML object>",
      "text/html": "<img src=\"https://fal-cdn.batuhan-941.workers.dev/files/zebra/d1T0eGRnLf1ZgkdeDGSUi.jpeg\" alt=\"Koala Image\" />"
     },
     "execution_count": 5,
     "metadata": {},
     "output_type": "execute_result"
    }
   ],
   "source": [
    "from IPython.display import HTML\n",
    "\n",
    "HTML(f'<img src=\"{resp}\" alt=\"Koala Image\" />')\n"
   ],
   "metadata": {
    "collapsed": false,
    "ExecuteTime": {
     "end_time": "2024-04-25T11:02:43.573885Z",
     "start_time": "2024-04-25T11:02:43.559820Z"
    }
   },
   "id": "9687c992fcec99a0",
   "execution_count": 5
  },
  {
   "cell_type": "code",
   "outputs": [],
   "source": [],
   "metadata": {
    "collapsed": false,
    "ExecuteTime": {
     "end_time": "2024-04-25T11:02:43.588926Z",
     "start_time": "2024-04-25T11:02:43.575136Z"
    }
   },
   "id": "48718069603cf6ac",
   "execution_count": 5
  }
 ],
 "metadata": {
  "kernelspec": {
   "display_name": "Python 3",
   "language": "python",
   "name": "python3"
  },
  "language_info": {
   "codemirror_mode": {
    "name": "ipython",
    "version": 2
   },
   "file_extension": ".py",
   "mimetype": "text/x-python",
   "name": "python",
   "nbconvert_exporter": "python",
   "pygments_lexer": "ipython2",
   "version": "2.7.6"
  }
 },
 "nbformat": 4,
 "nbformat_minor": 5
}
