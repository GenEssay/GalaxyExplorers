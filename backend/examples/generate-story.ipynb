{
 "cells": [
  {
   "cell_type": "markdown",
   "source": [
    "## Step\n",
    "\n",
    "- 生成 story\n",
    "- 生成每个 story 对应图片\n",
    "- 生成整个故事的文字描述\n",
    "- 生成视频"
   ],
   "metadata": {
    "collapsed": false
   },
   "id": "cd7e537ca0380608"
  },
  {
   "cell_type": "code",
   "outputs": [
    {
     "name": "stderr",
     "output_type": "stream",
     "text": [
      "D:\\Application\\Conda\\envs\\party-backend\\lib\\site-packages\\pydantic\\_internal\\_fields.py:151: UserWarning: Field \"model_name\" has conflict with protected namespace \"model_\".\n",
      "\n",
      "You may be able to resolve this warning by setting `model_config['protected_namespaces'] = ()`.\n",
      "  warnings.warn(\n",
      "D:\\Application\\Conda\\envs\\party-backend\\lib\\site-packages\\pydantic\\_internal\\_fields.py:151: UserWarning: Field \"model_info\" has conflict with protected namespace \"model_\".\n",
      "\n",
      "You may be able to resolve this warning by setting `model_config['protected_namespaces'] = ()`.\n",
      "  warnings.warn(\n"
     ]
    }
   ],
   "source": [
    "from typing import List\n",
    "\n",
    "from pydantic import BaseModel, Field\n",
    "\n",
    "from app.services.llm_service import chat"
   ],
   "metadata": {
    "collapsed": false,
    "ExecuteTime": {
     "end_time": "2024-04-25T11:01:50.222121Z",
     "start_time": "2024-04-25T11:01:47.516483Z"
    }
   },
   "id": "d673e589480ebc86",
   "execution_count": 1
  },
  {
   "cell_type": "code",
   "outputs": [
    {
     "name": "stdout",
     "output_type": "stream",
     "text": [
      "Hello! How can I assist you today?\n"
     ]
    }
   ],
   "source": [
    "print(chat(\"hello\"))"
   ],
   "metadata": {
    "collapsed": false,
    "ExecuteTime": {
     "end_time": "2024-04-25T11:01:52.745797Z",
     "start_time": "2024-04-25T11:01:50.223122Z"
    }
   },
   "id": "d8d292ba0c426a53",
   "execution_count": 2
  },
  {
   "cell_type": "code",
   "outputs": [],
   "source": [
    "epoch: int = 5\n",
    "\n",
    "\n",
    "class BasePlotBrief(BaseModel):\n",
    "    title: str = Field(..., title=\"The title of the story, brief and clear.\")\n",
    "    description: str = Field(..., title=\"The description of the plot\")\n",
    "\n",
    "\n",
    "class Step(BaseModel):\n",
    "    plot_1: BasePlotBrief = Field(..., title=\"The first plot of the story\")\n",
    "    plot_2: BasePlotBrief = Field(..., title=\"The second plot of the story\")\n",
    "    plot_3: BasePlotBrief = Field(..., title=\"The third plot of the story\")\n",
    "    plot_4: BasePlotBrief = Field(..., title=\"The fourth plot of the story\")\n",
    "\n",
    "\n",
    "class PlotBrief(BasePlotBrief):\n",
    "    url: str = Field(..., title=\"The URL of the image\")\n",
    "    final_description: str = Field(..., title=\"The final description of the plot\")\n",
    "\n",
    "class LLMResponse(BaseModel):\n",
    "    steps: List[Step] = Field(...,\n",
    "                              title=f\"The step of the response, Fixed {epoch} steps.\")"
   ],
   "metadata": {
    "collapsed": false,
    "ExecuteTime": {
     "end_time": "2024-04-25T11:19:40.906731Z",
     "start_time": "2024-04-25T11:19:40.891396Z"
    }
   },
   "id": "6e0901aa830782d2",
   "execution_count": 28
  },
  {
   "cell_type": "code",
   "outputs": [],
   "source": [
    "topic = \"school\"\n",
    "system_prompt = f\"\"\"\n",
    "I want to design a story for children. The themes are generally about specific aspects of life, such as 'school,' 'drawing,' and 'toy contention.'\n",
    "\n",
    "I would like you to provide {epoch} sets of key phrases for each theme, with four options for children to choose from. These key phrases are used to string together the story. \n",
    "\n",
    "Some are consistent with the story logic, some are not; some are positive, some are negative. The purpose is to understand the child's emotions, personality, basic cognitive abilities about life, and whether their thinking is divergent through the children's choices.\n",
    "\n",
    "The themes you need to generate below are as follows:\n",
    "{topic}\n",
    "\"\"\"\n",
    "system_prompt = system_prompt.format(topic=topic, epoch=epoch)\n",
    "\n",
    "res: LLMResponse = chat(messages=system_prompt, output_schema=LLMResponse)"
   ],
   "metadata": {
    "collapsed": false,
    "ExecuteTime": {
     "end_time": "2024-04-25T11:19:58.070330Z",
     "start_time": "2024-04-25T11:19:41.255636Z"
    }
   },
   "id": "fb04867c497f9fdb",
   "execution_count": 29
  },
  {
   "cell_type": "code",
   "outputs": [
    {
     "name": "stdout",
     "output_type": "stream",
     "text": [
      "plot_1=BasePlotBrief(title='The first day of school', description='You see your best friend waiting for you outside the school gate.') plot_2=BasePlotBrief(title='First class begins', description='Your teacher asked you to introduce yourself in front of the class.') plot_3=BasePlotBrief(title='Lunchtime', description='You find out that somebody ate your favorite snack from your lunchbox.') plot_4=BasePlotBrief(title='Recess', description='You join in a game with new friends and have so much fun.')\n",
      "----------\n",
      "plot_1=BasePlotBrief(title=\"The school's pet\", description='Your school has a cute rabbit as a class pet, and you get to take care of it for a day.') plot_2=BasePlotBrief(title='Math class', description='You struggle with a difficult math problem but finally figure it out with the help of a classmate.') plot_3=BasePlotBrief(title='Art class', description='You draw a picture of your family, and the teacher praises you for your creativity.') plot_4=BasePlotBrief(title='Library time', description='You get lost in a storybook and imagine yourself going on an adventure.')\n",
      "----------\n",
      "plot_1=BasePlotBrief(title='School project', description='Your group members disagree on the project theme, and you have to find a compromise.') plot_2=BasePlotBrief(title='Science experiment', description='Your experiment fails, but you learn that mistakes are part of learning.') plot_3=BasePlotBrief(title='Sports day', description=\"You participate in a race and feel proud of yourself, even though you didn't win.\") plot_4=BasePlotBrief(title='Homework time', description='You finish your homework early and have extra time to play with your toys.')\n",
      "----------\n",
      "plot_1=BasePlotBrief(title='School play', description='You are chosen for a lead role in the school play, but you feel nervous about performing in front of an audience.') plot_2=BasePlotBrief(title='School trip', description='During the trip, you get separated from your group and have to find your way back with the help of a teacher.') plot_3=BasePlotBrief(title='School assembly', description='You receive an award for your outstanding academic performance in front of the whole school.') plot_4=BasePlotBrief(title='End of school day', description='You wave goodbye to your friends and look forward to the next day at school.')\n",
      "----------\n"
     ]
    }
   ],
   "source": [
    "for item in res.steps:\n",
    "    print(item)\n",
    "    print(\"----------\")"
   ],
   "metadata": {
    "collapsed": false,
    "ExecuteTime": {
     "end_time": "2024-04-25T11:19:58.085704Z",
     "start_time": "2024-04-25T11:19:58.072314Z"
    }
   },
   "id": "9c00d063ef69e27e",
   "execution_count": 30
  },
  {
   "cell_type": "code",
   "outputs": [
    {
     "name": "stdout",
     "output_type": "stream",
     "text": [
      "4\n"
     ]
    }
   ],
   "source": [
    "print(len(res.steps))"
   ],
   "metadata": {
    "collapsed": false,
    "ExecuteTime": {
     "end_time": "2024-04-25T11:21:40.506351Z",
     "start_time": "2024-04-25T11:21:40.490020Z"
    }
   },
   "id": "808a5c92fd4b8999",
   "execution_count": 32
  },
  {
   "cell_type": "markdown",
   "source": [
    "## Generate All Images"
   ],
   "metadata": {
    "collapsed": false
   },
   "id": "7eea89d8d4f6353"
  },
  {
   "cell_type": "code",
   "outputs": [],
   "source": [
    "from app.services.img_gen_service import fal\n",
    "\n",
    "plot_map: List[List[PlotBrief]] = []\n",
    "\n",
    "def generate_img():\n",
    "    plot_map = []\n",
    "\n",
    "    for i in range(epoch):\n",
    "        tmp: List[PlotBrief] = []\n",
    "\n",
    "        img_1 = fal.generate(prompt=res.steps[i].plot_1.description)\n",
    "        tmp.append(PlotBrief(url=img_1, title=res.steps[i].plot_1.title,\n",
    "                             description=res.steps[i].plot_1.description))\n",
    "\n",
    "        img_2 = fal.generate(prompt=res.steps[i].plot_1.description)\n",
    "        tmp.append(PlotBrief(url=img_2, title=res.steps[i].plot_2.title,\n",
    "                             description=res.steps[i].plot_2.description))\n",
    "\n",
    "        img_3 = fal.generate(prompt=res.steps[i].plot_1.description)\n",
    "        tmp.append(PlotBrief(url=img_3, title=res.steps[i].plot_3.title,\n",
    "                             description=res.steps[i].plot_3.description))\n",
    "\n",
    "        img_4 = fal.generate(prompt=res.steps[i].plot_1.description)\n",
    "        tmp.append(PlotBrief(url=img_4, title=res.steps[i].plot_4.title,\n",
    "                             description=res.steps[i].plot_4.description))\n",
    "\n",
    "        plot_map.append(tmp)"
   ],
   "metadata": {
    "collapsed": false,
    "ExecuteTime": {
     "end_time": "2024-04-25T11:28:33.279583Z",
     "start_time": "2024-04-25T11:28:23.906283Z"
    }
   },
   "id": "c19d7032e046c900",
   "execution_count": 37
  },
  {
   "cell_type": "code",
   "outputs": [],
   "source": [
    "generate_img()"
   ],
   "metadata": {
    "collapsed": false
   },
   "id": "97b27424a560315b"
  },
  {
   "cell_type": "code",
   "outputs": [],
   "source": [
    "from PIL import Image\n",
    "import requests\n",
    "from io import BytesIO\n",
    "\n",
    "\n",
    "def show_all():\n",
    "    # 1 as a demo, default is epoch\n",
    "    for i in range(1):\n",
    "        for j in range(4):\n",
    "            response = requests.get(plot_map[i][j].url)\n",
    "            img = Image.open(BytesIO(response.content))\n",
    "            img.show()\n",
    "            print(plot_map[i][j].title)\n",
    "            print(plot_map[i][j].description)\n",
    "            print(\"----------\")"
   ],
   "metadata": {
    "collapsed": false,
    "ExecuteTime": {
     "end_time": "2024-04-25T11:29:01.162169Z",
     "start_time": "2024-04-25T11:29:01.156148Z"
    }
   },
   "id": "7847ec104c8037c4",
   "execution_count": 39
  },
  {
   "cell_type": "code",
   "outputs": [
    {
     "name": "stdout",
     "output_type": "stream",
     "text": [
      "The first day of school\n",
      "You see your best friend waiting for you outside the school gate.\n",
      "----------\n",
      "First class begins\n",
      "Your teacher asked you to introduce yourself in front of the class.\n",
      "----------\n",
      "Lunchtime\n",
      "You find out that somebody ate your favorite snack from your lunchbox.\n",
      "----------\n",
      "Recess\n",
      "You join in a game with new friends and have so much fun.\n",
      "----------\n"
     ]
    }
   ],
   "source": [
    "# show_all()"
   ],
   "metadata": {
    "collapsed": false,
    "ExecuteTime": {
     "end_time": "2024-04-25T11:29:07.406529Z",
     "start_time": "2024-04-25T11:29:01.461944Z"
    }
   },
   "id": "e1b5088d41f6a4f3",
   "execution_count": 40
  },
  {
   "cell_type": "markdown",
   "source": [
    "## Generate the story\n",
    "需要选择路径，四个图片代表0 1 2 3，则一个故事可能选择为 [1, 0, 2, 3, 1]\n"
   ],
   "metadata": {
    "collapsed": false
   },
   "id": "5b66d1e626d67281"
  },
  {
   "cell_type": "code",
   "outputs": [],
   "source": [
    "choice = [1, 1, 2, 3]\n",
    "\n",
    "appended_description = []\n",
    "\n",
    "system_prompt = \"\"\"\n",
    "现在你会得到一个长度为n的数组，里面的每一个元素代表了当前故事的一段描述，这个数组的每个元素append起来构成了一个时序的故事描述。\n",
    "\n",
    "现在你需要根据给出的故事描述，生成一段完整的故事，并且返回一个长度为n的数组，里面的每一个元素代表了当前故事的一段描述。\n",
    "\"\"\"\n",
    "\n",
    "def generate_story():\n",
    "    for i in range(epoch):\n",
    "        # append 每一个 description\n",
    "        item_description: str = plot_map[i][choice[i]].title + plot_map[i][choice[i]].description\n",
    "    \n",
    "    \n",
    "\n",
    "    chat(\"\")\n",
    "        "
   ],
   "metadata": {
    "collapsed": false,
    "ExecuteTime": {
     "end_time": "2024-04-25T11:37:49.611930Z",
     "start_time": "2024-04-25T11:37:49.602969Z"
    }
   },
   "id": "71332d65d0fa2688",
   "execution_count": 47
  },
  {
   "cell_type": "code",
   "outputs": [
    {
     "name": "stdout",
     "output_type": "stream",
     "text": [
      "The first day of school\n",
      "You see your best friend waiting for you outside the school gate.\n",
      "First class begins\n",
      "Your teacher asked you to introduce yourself in front of the class.\n",
      "----------\n",
      "The school's pet\n",
      "Your school has a cute rabbit as a class pet, and you get to take care of it for a day.\n"
     ]
    },
    {
     "ename": "IndexError",
     "evalue": "list index out of range",
     "output_type": "error",
     "traceback": [
      "\u001B[1;31m---------------------------------------------------------------------------\u001B[0m",
      "\u001B[1;31mIndexError\u001B[0m                                Traceback (most recent call last)",
      "Cell \u001B[1;32mIn[48], line 1\u001B[0m\n\u001B[1;32m----> 1\u001B[0m \u001B[43mgenerate_story\u001B[49m\u001B[43m(\u001B[49m\u001B[43m)\u001B[49m\n",
      "Cell \u001B[1;32mIn[47], line 7\u001B[0m, in \u001B[0;36mgenerate_story\u001B[1;34m()\u001B[0m\n\u001B[0;32m      5\u001B[0m \u001B[38;5;28mprint\u001B[39m(res\u001B[38;5;241m.\u001B[39msteps[i]\u001B[38;5;241m.\u001B[39mplot_1\u001B[38;5;241m.\u001B[39mtitle)\n\u001B[0;32m      6\u001B[0m \u001B[38;5;28mprint\u001B[39m(res\u001B[38;5;241m.\u001B[39msteps[i]\u001B[38;5;241m.\u001B[39mplot_1\u001B[38;5;241m.\u001B[39mdescription)\n\u001B[1;32m----> 7\u001B[0m \u001B[38;5;28mprint\u001B[39m(\u001B[43mplot_map\u001B[49m\u001B[43m[\u001B[49m\u001B[43mi\u001B[49m\u001B[43m]\u001B[49m[choice[i]]\u001B[38;5;241m.\u001B[39mtitle)\n\u001B[0;32m      8\u001B[0m \u001B[38;5;28mprint\u001B[39m(plot_map[i][choice[i]]\u001B[38;5;241m.\u001B[39mdescription)\n\u001B[0;32m      9\u001B[0m \u001B[38;5;28mprint\u001B[39m(\u001B[38;5;124m\"\u001B[39m\u001B[38;5;124m----------\u001B[39m\u001B[38;5;124m\"\u001B[39m)\n",
      "\u001B[1;31mIndexError\u001B[0m: list index out of range"
     ]
    }
   ],
   "source": [
    "generate_story()"
   ],
   "metadata": {
    "collapsed": false,
    "ExecuteTime": {
     "end_time": "2024-04-25T11:37:50.128125Z",
     "start_time": "2024-04-25T11:37:50.090103Z"
    }
   },
   "id": "fc52beecd421a35e",
   "execution_count": 48
  },
  {
   "cell_type": "code",
   "outputs": [],
   "source": [],
   "metadata": {
    "collapsed": false
   },
   "id": "f5386678278eaf5d"
  }
 ],
 "metadata": {
  "kernelspec": {
   "display_name": "Python 3",
   "language": "python",
   "name": "python3"
  },
  "language_info": {
   "codemirror_mode": {
    "name": "ipython",
    "version": 2
   },
   "file_extension": ".py",
   "mimetype": "text/x-python",
   "name": "python",
   "nbconvert_exporter": "python",
   "pygments_lexer": "ipython2",
   "version": "2.7.6"
  }
 },
 "nbformat": 4,
 "nbformat_minor": 5
}
